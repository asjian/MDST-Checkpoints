{
 "cells": [
  {
   "cell_type": "markdown",
   "id": "unusual-presentation",
   "metadata": {
    "colab_type": "text",
    "id": "0a8IYAJUshu1"
   },
   "source": [
    "# Exercises"
   ]
  },
  {
   "cell_type": "markdown",
   "id": "alien-chemistry",
   "metadata": {},
   "source": [
    "These exercises are a mix of Python and pandas/EDA practice. Most should be no more than a few lines of code! "
   ]
  },
  {
   "cell_type": "code",
   "execution_count": 1,
   "id": "temporal-peoples",
   "metadata": {
    "colab": {},
    "colab_type": "code",
    "id": "Jo6wuTgkshu1"
   },
   "outputs": [
    {
     "output_type": "stream",
     "name": "stdout",
     "text": [
      "[4, 5, 6]\n[6, 5, 4, 3, 2, 1]\n[1, 4, 9, 16, 25, 36]\n"
     ]
    }
   ],
   "source": [
    "# here is a Python list:\n",
    "a = [1, 2, 3, 4, 5, 6]\n",
    "# get a list containing the last 3 elements of a\n",
    "l = [a[len(a)-3],a[len(a)-2],a[len(a)-1]]\n",
    "# reverse the list\n",
    "r = a[::-1]\n",
    "# get a list where each entry in a is squared (so the new list is [1, 4, 9, 16, 25, 36])\n",
    "s = [n*n for n in a]\n",
    "print(l)\n",
    "print(r)\n",
    "print(s)"
   ]
  },
  {
   "cell_type": "code",
   "execution_count": 2,
   "id": "foreign-hobby",
   "metadata": {
    "colab": {},
    "colab_type": "code",
    "id": "qANtg5kQshu2"
   },
   "outputs": [
    {
     "output_type": "stream",
     "name": "stdout",
     "text": [
      "[1 2 3 4 5 6]\n"
     ]
    }
   ],
   "source": [
    "# create a numpy array from this list\n",
    "import numpy as np\n",
    "b = np.array(a)\n",
    "print(b)"
   ]
  },
  {
   "cell_type": "code",
   "execution_count": 3,
   "id": "organic-stupid",
   "metadata": {
    "colab": {},
    "colab_type": "code",
    "id": "91CXRflLshu4"
   },
   "outputs": [
    {
     "output_type": "stream",
     "name": "stdout",
     "text": [
      "3.5\n"
     ]
    }
   ],
   "source": [
    "# find the mean of b\n",
    "print(b.mean())"
   ]
  },
  {
   "cell_type": "code",
   "execution_count": 4,
   "id": "bright-kinase",
   "metadata": {
    "colab": {},
    "colab_type": "code",
    "id": "ZJZFwzQfshu9"
   },
   "outputs": [
    {
     "output_type": "stream",
     "name": "stdout",
     "text": [
      "[ 1  4  9 16 25 36]\n"
     ]
    }
   ],
   "source": [
    "# get a list where each entry in b is squared (so the new numpy array is [1, 4, 9, 16, 25, 36])\n",
    "# use a different (numpy-specific) approach\n",
    "print(np.square(b))"
   ]
  },
  {
   "cell_type": "code",
   "execution_count": 5,
   "id": "universal-trance",
   "metadata": {
    "colab": {},
    "colab_type": "code",
    "id": "ajbA5rCCshu5"
   },
   "outputs": [
    {
     "output_type": "stream",
     "name": "stdout",
     "text": [
      "[[1 2 3]\n [4 5 6]]\n"
     ]
    }
   ],
   "source": [
    "# change b from a length-6 list to a 2x3 matrix\n",
    "b = b.reshape(2,3)\n",
    "print(b)\n"
   ]
  },
  {
   "cell_type": "code",
   "execution_count": 6,
   "id": "visible-reading",
   "metadata": {
    "colab": {},
    "colab_type": "code",
    "id": "wancU_PWshu6"
   },
   "outputs": [
    {
     "output_type": "stream",
     "name": "stdout",
     "text": [
      "2.0\n5.0\n"
     ]
    }
   ],
   "source": [
    "print(b[0].mean())\n",
    "print(b[1].mean())"
   ]
  },
  {
   "cell_type": "code",
   "execution_count": 7,
   "id": "prompt-breed",
   "metadata": {
    "colab": {},
    "colab_type": "code",
    "id": "N3hXBrBtshu7"
   },
   "outputs": [
    {
     "output_type": "stream",
     "name": "stdout",
     "text": [
      "2.5\n3.5\n4.5\n"
     ]
    }
   ],
   "source": [
    "# find the mean value of each column\n",
    "for i in range(3):\n",
    "    print(b[:,i].mean())"
   ]
  },
  {
   "cell_type": "code",
   "execution_count": 8,
   "id": "round-buffer",
   "metadata": {
    "colab": {},
    "colab_type": "code",
    "id": "GvbO8gBXshu8"
   },
   "outputs": [
    {
     "output_type": "stream",
     "name": "stdout",
     "text": [
      "[3 6]\n"
     ]
    }
   ],
   "source": [
    "# find the third column of b\n",
    "print(b[:,2])"
   ]
  },
  {
   "cell_type": "code",
   "execution_count": 9,
   "id": "distinguished-clause",
   "metadata": {
    "colab": {},
    "colab_type": "code",
    "id": "WzCQ5HOJshvA"
   },
   "outputs": [],
   "source": [
    "# load in the \"starbucks_clean.csv\" dataset\n",
    "import pandas as pd \n",
    "df = pd.read_csv('../data/starbucks_clean.csv')"
   ]
  },
  {
   "cell_type": "code",
   "execution_count": 10,
   "id": "global-clothing",
   "metadata": {
    "colab": {},
    "colab_type": "code",
    "id": "rIoxaSxHshvB"
   },
   "outputs": [
    {
     "output_type": "stream",
     "name": "stdout",
     "text": [
      "193.87190082644628\n"
     ]
    }
   ],
   "source": [
    "# this is nutritional info for starbucks items\n",
    "# let's see if we can answer some questions\n",
    "\n",
    "# what is the average # calories across all items?\n",
    "calories = np.array(df['calories'])\n",
    "print(calories.mean())\n"
   ]
  },
  {
   "cell_type": "code",
   "execution_count": 12,
   "id": "shaped-paris",
   "metadata": {
    "colab": {},
    "colab_type": "code",
    "id": "ABX7i49FshvD"
   },
   "outputs": [
    {
     "output_type": "stream",
     "name": "stdout",
     "text": [
      "9\n"
     ]
    }
   ],
   "source": [
    "# how many different categories of beverages are there?\n",
    "categories = set()\n",
    "for cat in df['beverage_category']:\n",
    "    categories.add(cat)\n",
    "print(len(categories))"
   ]
  },
  {
   "cell_type": "code",
   "execution_count": 24,
   "id": "organic-encyclopedia",
   "metadata": {
    "colab": {},
    "colab_type": "code",
    "id": "P9QatZAzshvE"
   },
   "outputs": [
    {
     "output_type": "stream",
     "name": "stdout",
     "text": [
      "coffee avg: 4.25\nclassic espresso drinks avg: 141.40350877192984\nsignature espresso drinks avg: 253.84615384615384\ntazo tea drinks avg: 180.7843137254902\nshaken iced beverages avg: 117.6470588235294\nsmoothies avg: 282.5\nfrappuccino blended coffee avg: 280.2857142857143\nfrappuccino light blended coffee avg: 169.0909090909091\n"
     ]
    }
   ],
   "source": [
    "# what is the average # calories for each beverage category?\n",
    "lastcat = 'coffee'\n",
    "index = 0\n",
    "sum = 0\n",
    "count = 0\n",
    "for cat in df['beverage_category']:\n",
    "    if cat != lastcat:\n",
    "        print(lastcat + ' avg: ' + str(sum/count))\n",
    "        count = 0\n",
    "        sum = 0\n",
    "        lastcat = cat\n",
    "    else:\n",
    "        count += 1\n",
    "        sum += calories[index]\n",
    "    index += 1"
   ]
  },
  {
   "cell_type": "code",
   "execution_count": 26,
   "id": "enhanced-prior",
   "metadata": {
    "colab": {},
    "colab_type": "code",
    "id": "y8KEpYNkshvG"
   },
   "outputs": [
    {
     "output_type": "stream",
     "name": "stdout",
     "text": [
      "Short avg: 8.25\nTall avg: 14.714285714285714\nGrande avg: 20.0\nVenti avg: 27.714285714285715\nShort Nonfat Milk avg: 17.0\n2% Milk avg: 30.98\nSoymilk avg: 31.848484848484848\nTall Nonfat Milk avg: 28.52173913043478\nGrande Nonfat Milk avg: 38.61538461538461\nVenti Nonfat Milk avg: 50.04545454545455\nSolo avg: 0.0\nDoppio avg: 0.0\nWhole Milk avg: 55.6875\n"
     ]
    }
   ],
   "source": [
    "# what beverage preparation includes the most sugar on average?\n",
    "sugars = np.array(df['sugars'])\n",
    "index = 0\n",
    "preptoavg = {}\n",
    "for prep in df['beverage_prep']:\n",
    "    if prep in preptoavg:\n",
    "        preptoavg[prep][0] += sugars[index]\n",
    "        preptoavg[prep][1] += 1\n",
    "    else:\n",
    "        preptoavg[prep] = [sugars[index],1]\n",
    "    index += 1\n",
    "for p in preptoavg:\n",
    "    print(p + ' avg: ' + str(preptoavg[p][0]/preptoavg[p][1]))"
   ]
  },
  {
   "cell_type": "code",
   "execution_count": 28,
   "id": "academic-unknown",
   "metadata": {
    "colab": {},
    "colab_type": "code",
    "id": "MnbCEJw8shvH"
   },
   "outputs": [
    {
     "output_type": "stream",
     "name": "stdout",
     "text": [
      "brewed coffee avg percent daily value calcium content: 0.5\ncaffè latte avg percent daily value calcium content: 36.36363636363637\ncaffè mocha without whipped cream avg percent daily value calcium content: 31.363636363636363\nvanilla latte or other flavoured latte avg percent daily value calcium content: 34.09090909090909\ncaffè americano avg percent daily value calcium content: 2.0\ncappuccino avg percent daily value calcium content: 23.181818181818183\nespresso avg percent daily value calcium content: 0.0\nskinny latte any flavour avg percent daily value calcium content: 38.333333333333336\ncaramel macchiato avg percent daily value calcium content: 29.545454545454547\nwhite chocolate mocha without whipped cream avg percent daily value calcium content: 42.72727272727273\nhot chocolate without whipped cream avg percent daily value calcium content: 36.36363636363637\ncaramel apple spice without whipped cream avg percent daily value calcium content: 0.0\ntazo tea avg percent daily value calcium content: 0.0\ntazo chai tea latte avg percent daily value calcium content: 22.727272727272727\ntazo green tea latte avg percent daily value calcium content: 40.90909090909091\ntazo fullleaf tea latte avg percent daily value calcium content: 21.818181818181817\ntazo fullleaf red tea latte vanilla rooibos avg percent daily value calcium content: 21.818181818181817\niced brewed coffee with classic syrup avg percent daily value calcium content: 0.0\niced brewed coffee with milk  classic syrup avg percent daily value calcium content: 8.25\nshaken iced tazo tea with classic syrup avg percent daily value calcium content: 0.0\nshaken iced tazo tea lemonade with classic syrup avg percent daily value calcium content: 0.0\nbanana chocolate smoothie avg percent daily value calcium content: 20.0\norange mango banana smoothie avg percent daily value calcium content: 10.0\nstrawberry banana smoothie avg percent daily value calcium content: 10.0\ncoffee avg percent daily value calcium content: 12.875\nmocha without whipped cream avg percent daily value calcium content: 12.25\ncaramel without whipped cream avg percent daily value calcium content: 12.25\njava chip without whipped cream avg percent daily value calcium content: 12.875\ncoffee avg percent daily value calcium content: 12.5\nmocha avg percent daily value calcium content: 12.5\ncaramel avg percent daily value calcium content: 12.5\njava chip avg percent daily value calcium content: 12.5\nstrawberries  crème without whipped cream avg percent daily value calcium content: 15.625\n"
     ]
    }
   ],
   "source": [
    "# what is the average % daily value calcium content for each beverage?\n",
    "calcium = np.array(df[\"calcium\"])\n",
    "lastbev = 'brewed coffee'\n",
    "index = 0\n",
    "sum = 0\n",
    "count = 0\n",
    "for bev in df['beverage']:\n",
    "    if bev != lastbev:\n",
    "        print(lastbev + ' avg percent daily value calcium content: ' + str(sum/count))\n",
    "        count = 0\n",
    "        sum = 0\n",
    "        lastbev = bev\n",
    "    else:\n",
    "        count += 1\n",
    "        sum += calcium[index]\n",
    "    index += 1"
   ]
  },
  {
   "cell_type": "code",
   "execution_count": null,
   "id": "changing-norman",
   "metadata": {
    "colab": {},
    "colab_type": "code",
    "id": "Nv5dksj_shvJ"
   },
   "outputs": [],
   "source": [
    "# It's bulking season. What drink should Naitian get so that he maximizes protein but minimizes calories?\n",
    "# (you can use more than one line for this one)\n",
    "# there are multiple valid approaches you can take for this (with different answers)\n",
    "# I know that you want more calories for bulking season but whatever this is MDST, not Michigan Muscle Club okay\n",
    "proteins = np.array(df[\"protein\"])\n"
   ]
  },
  {
   "cell_type": "code",
   "execution_count": null,
   "id": "addressed-royalty",
   "metadata": {},
   "outputs": [],
   "source": [
    "# plot the distribution of the number of calories in drinks using matplotlib\n"
   ]
  },
  {
   "cell_type": "code",
   "execution_count": null,
   "id": "efficient-garbage",
   "metadata": {},
   "outputs": [],
   "source": [
    "# plot the same distribution using seaborn. what about a density plot instead?\n"
   ]
  },
  {
   "cell_type": "code",
   "execution_count": null,
   "id": "chicken-aluminum",
   "metadata": {},
   "outputs": [],
   "source": [
    "# plot calories against total fat using seaborn\n"
   ]
  },
  {
   "cell_type": "code",
   "execution_count": null,
   "id": "involved-fighter",
   "metadata": {},
   "outputs": [],
   "source": [
    "# plot the distribution of calories in Short, Tall, Grande, and Venti drinks\n",
    "# (you can use multiple lines for this)\n",
    "# twist: you should also include the Nonfat Milk drinks that also have an associated size.\n",
    "\n",
    "# you can decide how you want to visualize this. Colors? Small multiples? Density vs histogram?\n",
    "# the starbucks is your oyster.\n"
   ]
  }
 ],
 "metadata": {
  "kernelspec": {
   "display_name": "Python 3",
   "language": "python",
   "name": "python3"
  },
  "language_info": {
   "codemirror_mode": {
    "name": "ipython",
    "version": 3
   },
   "file_extension": ".py",
   "mimetype": "text/x-python",
   "name": "python",
   "nbconvert_exporter": "python",
   "pygments_lexer": "ipython3",
   "version": "3.8.5-final"
  }
 },
 "nbformat": 4,
 "nbformat_minor": 5
}